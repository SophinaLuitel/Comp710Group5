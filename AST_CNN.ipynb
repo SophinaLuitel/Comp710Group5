{
  "nbformat": 4,
  "nbformat_minor": 0,
  "metadata": {
    "colab": {
      "provenance": [],
      "machine_shape": "hm",
      "gpuType": "L4",
      "authorship_tag": "ABX9TyNfmrqGDP6qx4HBvkfn580u",
      "include_colab_link": true
    },
    "kernelspec": {
      "name": "python3",
      "display_name": "Python 3"
    },
    "language_info": {
      "name": "python"
    },
    "accelerator": "GPU"
  },
  "cells": [
    {
      "cell_type": "markdown",
      "metadata": {
        "id": "view-in-github",
        "colab_type": "text"
      },
      "source": [
        "<a href=\"https://colab.research.google.com/github/SophinaLuitel/Comp710Group5/blob/main/AST_CNN.ipynb\" target=\"_parent\"><img src=\"https://colab.research.google.com/assets/colab-badge.svg\" alt=\"Open In Colab\"/></a>"
      ]
    },
    {
      "cell_type": "code",
      "execution_count": 1,
      "metadata": {
        "id": "yxl5LHXC79i0"
      },
      "outputs": [],
      "source": [
        "\n",
        "\n",
        "import numpy as np\n",
        "import pandas as pd\n",
        "import tensorflow as tf\n",
        "import matplotlib.pyplot as plt\n",
        "import os\n",
        "import wave\n",
        "import pylab\n",
        "from pathlib import Path\n",
        "from scipy import signal\n",
        "from scipy.io import wavfile\n",
        "from sklearn.metrics import confusion_matrix\n",
        "import itertools"
      ]
    },
    {
      "cell_type": "code",
      "source": [
        "from google.colab import drive\n",
        "drive.mount('/content/drive')"
      ],
      "metadata": {
        "colab": {
          "base_uri": "https://localhost:8080/"
        },
        "id": "wRi7QinJ8I74",
        "outputId": "23f735c8-bf9d-4c9e-fccc-567ed466d99e"
      },
      "execution_count": 2,
      "outputs": [
        {
          "output_type": "stream",
          "name": "stdout",
          "text": [
            "Mounted at /content/drive\n"
          ]
        }
      ]
    },
    {
      "cell_type": "code",
      "source": [
        "def extract_label_from_filename(filename):\n",
        "    tem = filename.split(\"/\", -1)\n",
        "\n",
        "    if tem[0][2:5] == \"gio\":\n",
        "        return 1\n",
        "    elif tem[0][2:5] == \"tri\":\n",
        "        return 0\n",
        "    elif tem[0][2:5] == \"ans\":\n",
        "        return 2\n",
        "    elif tem[0][2:5] == \"dis\":\n",
        "        return 3\n",
        "    elif tem[0][2:5] == \"rab\":\n",
        "        return 4"
      ],
      "metadata": {
        "id": "Bcmy45od8LJ4"
      },
      "execution_count": 5,
      "outputs": []
    },
    {
      "cell_type": "code",
      "source": [
        "def extract_gender_rom_filename(filename):\n",
        "    tem = filename.split(\"/\", -1)\n",
        "\n",
        "    if tem[0][0] == 'f':\n",
        "        return 1\n",
        "    elif tem[0][0] == 'm':\n",
        "        return 0\n"
      ],
      "metadata": {
        "id": "T_QHcTEU9exQ"
      },
      "execution_count": 6,
      "outputs": []
    },
    {
      "cell_type": "code",
      "source": [
        "from PIL import Image\n",
        "import os\n",
        "import numpy as np\n",
        "\n",
        "spectrogram_images = []\n",
        "labels = []\n",
        "gender=[]\n",
        "spectrogram_height = 256\n",
        "spectrogram_width = 256\n",
        "BATCH_SIZE = 32\n",
        "channels = 3\n",
        "\n",
        "output_dir = '/content/drive/MyDrive/wav_corpus/png16emo'\n",
        "INPUT_DIR = '/content/drive/MyDrive/wav_corpus/png16emo'\n",
        "\n",
        "if not os.path.exists(output_dir):\n",
        "    os.makedirs(output_dir)\n",
        "\n",
        "for filename in os.listdir(INPUT_DIR):\n",
        "    if filename.endswith(\".png\"):\n",
        "        img_path = os.path.join(INPUT_DIR, filename)  # Corrected the path\n",
        "        img = Image.open(img_path)\n",
        "    #    print(img)\n",
        "\n",
        "        img = img.resize((spectrogram_width, spectrogram_height))  # Resize if needed\n",
        "        img_array = np.array(img)\n",
        "        spectrogram_images.append(img_array)\n",
        "\n",
        "        label = extract_label_from_filename(filename)  # Implement this based on your naming convention\n",
        "        labels.append(label)\n",
        "\n",
        "        gen= extract_gender_rom_filename(filename)\n",
        "        gender.append(gen)\n",
        "\n",
        "spectrogram_images = np.array(spectrogram_images,dtype=np.float32)\n",
        "\n",
        "\n",
        "\n",
        "labels = np.array(labels)\n",
        "gender=np.array(gender)\n"
      ],
      "metadata": {
        "id": "f4nGP_1f8XIY"
      },
      "execution_count": 7,
      "outputs": []
    },
    {
      "cell_type": "code",
      "source": [
        "#  image information\n",
        "print(\"Number of images:\", len(spectrogram_images))\n",
        "print(\"Number of labels:\", len(labels))\n",
        "print(\"Number of gender:\", len(gender))\n",
        "\n",
        "spectrogram_images = np.array(spectrogram_images)\n",
        "labels = np.array(labels)\n",
        "#print(labels)\n",
        "# information after array conversion\n",
        "print(\"Shape of spectrogram_images array:\", spectrogram_images.shape)\n",
        "print(\"Shape of labels array:\", labels.shape)"
      ],
      "metadata": {
        "colab": {
          "base_uri": "https://localhost:8080/"
        },
        "id": "0mC_CAr89oFR",
        "outputId": "6bd7006f-ba8d-4b4e-e670-6280ddbe71d2"
      },
      "execution_count": 108,
      "outputs": [
        {
          "output_type": "stream",
          "name": "stdout",
          "text": [
            "Number of images: 494\n",
            "Number of labels: 494\n",
            "Number of gender: 494\n",
            "Shape of spectrogram_images array: (494, 256, 256, 3)\n",
            "Shape of labels array: (494,)\n"
          ]
        }
      ]
    },
    {
      "cell_type": "code",
      "source": [
        "# Define the two emotions you want to keep\n",
        "emotions_to_keep = [0, 1]  # Replace with the actual label values for the two emotions\n",
        "\n",
        "# Filter the spectrogram images and labels for the two emotions\n",
        "filtered_indices = np.isin(labels, emotions_to_keep)\n",
        "spectrogram_images = spectrogram_images[filtered_indices]\n",
        "labels = labels[filtered_indices]\n",
        "gender = gender[filtered_indices]\n",
        "\n",
        "print(f\"Filtered spectrograms shape: {spectrogram_images.shape}\")\n",
        "print(f\"Filtered labels shape: {labels.shape}\")\n",
        "print(f\"Filtered gender shape: {gender.shape}\")\n"
      ],
      "metadata": {
        "colab": {
          "base_uri": "https://localhost:8080/"
        },
        "id": "wGbk9-gE9sTu",
        "outputId": "f01b5ec6-1cdd-416b-ed86-a6c086172c54"
      },
      "execution_count": 109,
      "outputs": [
        {
          "output_type": "stream",
          "name": "stdout",
          "text": [
            "Filtered spectrograms shape: (494, 256, 256, 3)\n",
            "Filtered labels shape: (494,)\n",
            "Filtered gender shape: (494,)\n"
          ]
        }
      ]
    },
    {
      "cell_type": "code",
      "source": [
        "from sklearn.model_selection import train_test_split\n",
        "\n",
        "# Split the data into training and temporary validation sets\n",
        "train_images, temp_images, train_labels, temp_labels = train_test_split(spectrogram_images, labels, test_size=0.2, random_state=42)\n",
        "\n",
        "# Split the temporary validation set into validation and test sets\n",
        "val_images, test_images, val_labels, test_labels = train_test_split(temp_images, temp_labels, test_size=0.5, random_state=42)\n",
        "\n",
        "# Print the shapes of the resulting datasets\n",
        "print(\"Train set shape:\", train_images.shape, train_labels.shape)\n",
        "print(\"Validation set shape:\", val_images.shape, val_labels.shape)\n",
        "print(\"Test set shape:\", test_images.shape, test_labels.shape)"
      ],
      "metadata": {
        "colab": {
          "base_uri": "https://localhost:8080/"
        },
        "id": "evKLtn_D9C-l",
        "outputId": "e1f838a3-bc55-430f-c2e6-a34478f46d8c"
      },
      "execution_count": 110,
      "outputs": [
        {
          "output_type": "stream",
          "name": "stdout",
          "text": [
            "Train set shape: (395, 256, 256, 3) (395,)\n",
            "Validation set shape: (49, 256, 256, 3) (49,)\n",
            "Test set shape: (50, 256, 256, 3) (50,)\n"
          ]
        }
      ]
    },
    {
      "cell_type": "code",
      "source": [
        "print(spectrogram_images.shape)\n",
        "print(labels.shape)\n",
        "# Assuming y_labels is a NumPy array or list of labels\n",
        "labels1, counts = np.unique(labels, return_counts=True)\n",
        "\n",
        "# Print the counts for each label\n",
        "for label, count in zip(labels1, counts):\n",
        "    print(f\"Label {label}: {count} data points\")"
      ],
      "metadata": {
        "colab": {
          "base_uri": "https://localhost:8080/"
        },
        "id": "N8qJTz7u8nan",
        "outputId": "a57db4b5-1fa7-44d2-ff15-0a2387c0c5f8"
      },
      "execution_count": 111,
      "outputs": [
        {
          "output_type": "stream",
          "name": "stdout",
          "text": [
            "(494, 256, 256, 3)\n",
            "(494,)\n",
            "Label 0: 254 data points\n",
            "Label 1: 240 data points\n"
          ]
        }
      ]
    },
    {
      "cell_type": "code",
      "source": [
        "import random\n",
        "\n",
        "from tensorflow.keras.optimizers import SGD, RMSprop, Adagrad, Nadam,Adam\n",
        "import tensorflow as tf\n",
        "from tensorflow.keras import regularizers\n",
        "import numpy as np\n",
        "\n",
        "# Set random seed for TensorFlow\n",
        "tf.random.set_seed(42)\n",
        "\n",
        "# Set random seed for numpy\n",
        "np.random.seed(42)\n",
        "# Set random seed\n",
        "random.seed(42)\n",
        "\n",
        "# Define the CNN model\n",
        "model = tf.keras.Sequential([\n",
        "    tf.keras.layers.Input(shape=(256, 256, 3)),\n",
        "\n",
        "    tf.keras.layers.Conv2D(64, (3, 3), activation='relu', padding='valid',kernel_regularizer=regularizers.l1_l2(l1=1e-4,l2=1e-3)),\n",
        "    tf.keras.layers.BatchNormalization(),\n",
        "    tf.keras.layers.MaxPooling2D((2, 2)),\n",
        "    tf.keras.layers.Dropout(0.2),\n",
        "\n",
        "    tf.keras.layers.Conv2D(64, (3, 3), activation='relu', padding='valid',kernel_regularizer=regularizers.l1_l2(l1=1e-4,l2=1e-3)),\n",
        "    tf.keras.layers.BatchNormalization(),\n",
        "    tf.keras.layers.MaxPooling2D((2, 2)),\n",
        "    tf.keras.layers.Dropout(0.2),\n",
        "\n",
        "    tf.keras.layers.Conv2D(64, (3, 3), activation='relu', padding='valid',kernel_regularizer=regularizers.l1_l2(l1=1e-4,l2=1e-3)),\n",
        "    tf.keras.layers.BatchNormalization(),\n",
        "    tf.keras.layers.MaxPooling2D((2, 2)),\n",
        "    tf.keras.layers.Dropout(0.2),\n",
        "\n",
        "\n",
        "    #flatten layer to transition from convolution to dense layer\n",
        "    tf.keras.layers.Flatten(),\n",
        "    #fully connected layers with the dropout for regularization\n",
        "    tf.keras.layers.Dense(64, activation='relu',kernel_regularizer=regularizers.l1_l2(l1=1e-3,l2=1e-3)),\n",
        "    tf.keras.layers.Dropout(0.3),\n",
        "    tf.keras.layers.Dense(1, activation='sigmoid')\n",
        "])\n",
        "learning_rate=1e-4\n",
        "optimizer=Adam(learning_rate=learning_rate)\n",
        "# Compile the model\n",
        "\n",
        "model.compile(optimizer=optimizer, loss='binary_crossentropy', metrics=['accuracy'])\n",
        "\n",
        "#print(model.summary())\n"
      ],
      "metadata": {
        "id": "FIrJV8ex-R4j"
      },
      "execution_count": 126,
      "outputs": []
    },
    {
      "cell_type": "code",
      "source": [
        "from tensorflow.keras.callbacks import EarlyStopping, ReduceLROnPlateau\n",
        "\n",
        "# Early stopping to prevent overfitting\n",
        "#early_stopping = EarlyStopping(monitor='val_loss', patience=3, restore_best_weights=True)\n",
        "\n",
        "# Reduce learning rate when a metric has stopped improving\n",
        "#reduce_lr = ReduceLROnPlateau(monitor='val_loss', factor=0.2, patience=3, min_lr=1e-4)\n",
        "# Train the model\n",
        "history=model.fit(train_images, train_labels, epochs=30, batch_size=8, validation_data=(val_images, val_labels))\n",
        "\n",
        "# Evaluate the model\n",
        "loss, accuracy = model.evaluate(val_images, val_labels)\n",
        "print(\"Validation accuracy:\", accuracy)"
      ],
      "metadata": {
        "colab": {
          "base_uri": "https://localhost:8080/"
        },
        "id": "CWDuRkiR-XtV",
        "outputId": "da63a149-f26f-4dbd-edab-98e2dd01a2fd"
      },
      "execution_count": 127,
      "outputs": [
        {
          "output_type": "stream",
          "name": "stdout",
          "text": [
            "Epoch 1/30\n",
            "\u001b[1m50/50\u001b[0m \u001b[32m━━━━━━━━━━━━━━━━━━━━\u001b[0m\u001b[37m\u001b[0m \u001b[1m15s\u001b[0m 153ms/step - accuracy: 0.5338 - loss: 19.7650 - val_accuracy: 0.5714 - val_loss: 16.1032\n",
            "Epoch 2/30\n",
            "\u001b[1m50/50\u001b[0m \u001b[32m━━━━━━━━━━━━━━━━━━━━\u001b[0m\u001b[37m\u001b[0m \u001b[1m1s\u001b[0m 21ms/step - accuracy: 0.7228 - loss: 15.1241 - val_accuracy: 0.5714 - val_loss: 12.8113\n",
            "Epoch 3/30\n",
            "\u001b[1m50/50\u001b[0m \u001b[32m━━━━━━━━━━━━━━━━━━━━\u001b[0m\u001b[37m\u001b[0m \u001b[1m1s\u001b[0m 21ms/step - accuracy: 0.7085 - loss: 12.1911 - val_accuracy: 0.6327 - val_loss: 10.6884\n",
            "Epoch 4/30\n",
            "\u001b[1m50/50\u001b[0m \u001b[32m━━━━━━━━━━━━━━━━━━━━\u001b[0m\u001b[37m\u001b[0m \u001b[1m1s\u001b[0m 21ms/step - accuracy: 0.7745 - loss: 10.2172 - val_accuracy: 0.8980 - val_loss: 8.9424\n",
            "Epoch 5/30\n",
            "\u001b[1m50/50\u001b[0m \u001b[32m━━━━━━━━━━━━━━━━━━━━\u001b[0m\u001b[37m\u001b[0m \u001b[1m1s\u001b[0m 23ms/step - accuracy: 0.7985 - loss: 8.7315 - val_accuracy: 0.9184 - val_loss: 7.7078\n",
            "Epoch 6/30\n",
            "\u001b[1m50/50\u001b[0m \u001b[32m━━━━━━━━━━━━━━━━━━━━\u001b[0m\u001b[37m\u001b[0m \u001b[1m1s\u001b[0m 21ms/step - accuracy: 0.7873 - loss: 7.4559 - val_accuracy: 0.8776 - val_loss: 6.6948\n",
            "Epoch 7/30\n",
            "\u001b[1m50/50\u001b[0m \u001b[32m━━━━━━━━━━━━━━━━━━━━\u001b[0m\u001b[37m\u001b[0m \u001b[1m1s\u001b[0m 21ms/step - accuracy: 0.8813 - loss: 6.4115 - val_accuracy: 0.8980 - val_loss: 5.8235\n",
            "Epoch 8/30\n",
            "\u001b[1m50/50\u001b[0m \u001b[32m━━━━━━━━━━━━━━━━━━━━\u001b[0m\u001b[37m\u001b[0m \u001b[1m1s\u001b[0m 21ms/step - accuracy: 0.8518 - loss: 5.6158 - val_accuracy: 0.8163 - val_loss: 5.1872\n",
            "Epoch 9/30\n",
            "\u001b[1m50/50\u001b[0m \u001b[32m━━━━━━━━━━━━━━━━━━━━\u001b[0m\u001b[37m\u001b[0m \u001b[1m1s\u001b[0m 21ms/step - accuracy: 0.8749 - loss: 4.8810 - val_accuracy: 0.8980 - val_loss: 4.5584\n",
            "Epoch 10/30\n",
            "\u001b[1m50/50\u001b[0m \u001b[32m━━━━━━━━━━━━━━━━━━━━\u001b[0m\u001b[37m\u001b[0m \u001b[1m1s\u001b[0m 21ms/step - accuracy: 0.8666 - loss: 4.3716 - val_accuracy: 0.7959 - val_loss: 4.1408\n",
            "Epoch 11/30\n",
            "\u001b[1m50/50\u001b[0m \u001b[32m━━━━━━━━━━━━━━━━━━━━\u001b[0m\u001b[37m\u001b[0m \u001b[1m1s\u001b[0m 21ms/step - accuracy: 0.8891 - loss: 3.9244 - val_accuracy: 0.8163 - val_loss: 3.7715\n",
            "Epoch 12/30\n",
            "\u001b[1m50/50\u001b[0m \u001b[32m━━━━━━━━━━━━━━━━━━━━\u001b[0m\u001b[37m\u001b[0m \u001b[1m1s\u001b[0m 21ms/step - accuracy: 0.9135 - loss: 3.4526 - val_accuracy: 0.8163 - val_loss: 3.4068\n",
            "Epoch 13/30\n",
            "\u001b[1m50/50\u001b[0m \u001b[32m━━━━━━━━━━━━━━━━━━━━\u001b[0m\u001b[37m\u001b[0m \u001b[1m1s\u001b[0m 21ms/step - accuracy: 0.9216 - loss: 3.1166 - val_accuracy: 0.8571 - val_loss: 2.9988\n",
            "Epoch 14/30\n",
            "\u001b[1m50/50\u001b[0m \u001b[32m━━━━━━━━━━━━━━━━━━━━\u001b[0m\u001b[37m\u001b[0m \u001b[1m1s\u001b[0m 21ms/step - accuracy: 0.9059 - loss: 2.8443 - val_accuracy: 0.8980 - val_loss: 2.8374\n",
            "Epoch 15/30\n",
            "\u001b[1m50/50\u001b[0m \u001b[32m━━━━━━━━━━━━━━━━━━━━\u001b[0m\u001b[37m\u001b[0m \u001b[1m1s\u001b[0m 21ms/step - accuracy: 0.9245 - loss: 2.6339 - val_accuracy: 0.8776 - val_loss: 2.5495\n",
            "Epoch 16/30\n",
            "\u001b[1m50/50\u001b[0m \u001b[32m━━━━━━━━━━━━━━━━━━━━\u001b[0m\u001b[37m\u001b[0m \u001b[1m1s\u001b[0m 21ms/step - accuracy: 0.9447 - loss: 2.3531 - val_accuracy: 0.8571 - val_loss: 2.3310\n",
            "Epoch 17/30\n",
            "\u001b[1m50/50\u001b[0m \u001b[32m━━━━━━━━━━━━━━━━━━━━\u001b[0m\u001b[37m\u001b[0m \u001b[1m1s\u001b[0m 21ms/step - accuracy: 0.9457 - loss: 2.1373 - val_accuracy: 0.8776 - val_loss: 2.2365\n",
            "Epoch 18/30\n",
            "\u001b[1m50/50\u001b[0m \u001b[32m━━━━━━━━━━━━━━━━━━━━\u001b[0m\u001b[37m\u001b[0m \u001b[1m1s\u001b[0m 21ms/step - accuracy: 0.9528 - loss: 1.9782 - val_accuracy: 0.8980 - val_loss: 2.0084\n",
            "Epoch 19/30\n",
            "\u001b[1m50/50\u001b[0m \u001b[32m━━━━━━━━━━━━━━━━━━━━\u001b[0m\u001b[37m\u001b[0m \u001b[1m1s\u001b[0m 21ms/step - accuracy: 0.9654 - loss: 1.8673 - val_accuracy: 0.9388 - val_loss: 1.9682\n",
            "Epoch 20/30\n",
            "\u001b[1m50/50\u001b[0m \u001b[32m━━━━━━━━━━━━━━━━━━━━\u001b[0m\u001b[37m\u001b[0m \u001b[1m1s\u001b[0m 21ms/step - accuracy: 0.9500 - loss: 1.8115 - val_accuracy: 0.8776 - val_loss: 1.8277\n",
            "Epoch 21/30\n",
            "\u001b[1m50/50\u001b[0m \u001b[32m━━━━━━━━━━━━━━━━━━━━\u001b[0m\u001b[37m\u001b[0m \u001b[1m1s\u001b[0m 21ms/step - accuracy: 0.9313 - loss: 1.7305 - val_accuracy: 0.8980 - val_loss: 1.7896\n",
            "Epoch 22/30\n",
            "\u001b[1m50/50\u001b[0m \u001b[32m━━━━━━━━━━━━━━━━━━━━\u001b[0m\u001b[37m\u001b[0m \u001b[1m1s\u001b[0m 21ms/step - accuracy: 0.9430 - loss: 1.6263 - val_accuracy: 0.9184 - val_loss: 1.7063\n",
            "Epoch 23/30\n",
            "\u001b[1m50/50\u001b[0m \u001b[32m━━━━━━━━━━━━━━━━━━━━\u001b[0m\u001b[37m\u001b[0m \u001b[1m1s\u001b[0m 21ms/step - accuracy: 0.9329 - loss: 1.5575 - val_accuracy: 0.9184 - val_loss: 1.6536\n",
            "Epoch 24/30\n",
            "\u001b[1m50/50\u001b[0m \u001b[32m━━━━━━━━━━━━━━━━━━━━\u001b[0m\u001b[37m\u001b[0m \u001b[1m1s\u001b[0m 21ms/step - accuracy: 0.9370 - loss: 1.5026 - val_accuracy: 0.8776 - val_loss: 1.7310\n",
            "Epoch 25/30\n",
            "\u001b[1m50/50\u001b[0m \u001b[32m━━━━━━━━━━━━━━━━━━━━\u001b[0m\u001b[37m\u001b[0m \u001b[1m1s\u001b[0m 21ms/step - accuracy: 0.9272 - loss: 1.5299 - val_accuracy: 0.8980 - val_loss: 1.6735\n",
            "Epoch 26/30\n",
            "\u001b[1m50/50\u001b[0m \u001b[32m━━━━━━━━━━━━━━━━━━━━\u001b[0m\u001b[37m\u001b[0m \u001b[1m1s\u001b[0m 21ms/step - accuracy: 0.9710 - loss: 1.4587 - val_accuracy: 0.8776 - val_loss: 1.5636\n",
            "Epoch 27/30\n",
            "\u001b[1m50/50\u001b[0m \u001b[32m━━━━━━━━━━━━━━━━━━━━\u001b[0m\u001b[37m\u001b[0m \u001b[1m1s\u001b[0m 21ms/step - accuracy: 0.9733 - loss: 1.3159 - val_accuracy: 0.8980 - val_loss: 1.4234\n",
            "Epoch 28/30\n",
            "\u001b[1m50/50\u001b[0m \u001b[32m━━━━━━━━━━━━━━━━━━━━\u001b[0m\u001b[37m\u001b[0m \u001b[1m1s\u001b[0m 21ms/step - accuracy: 0.9630 - loss: 1.2480 - val_accuracy: 0.8571 - val_loss: 1.4951\n",
            "Epoch 29/30\n",
            "\u001b[1m50/50\u001b[0m \u001b[32m━━━━━━━━━━━━━━━━━━━━\u001b[0m\u001b[37m\u001b[0m \u001b[1m1s\u001b[0m 21ms/step - accuracy: 0.9744 - loss: 1.1617 - val_accuracy: 0.9184 - val_loss: 1.3333\n",
            "Epoch 30/30\n",
            "\u001b[1m50/50\u001b[0m \u001b[32m━━━━━━━━━━━━━━━━━━━━\u001b[0m\u001b[37m\u001b[0m \u001b[1m1s\u001b[0m 21ms/step - accuracy: 0.9801 - loss: 1.1742 - val_accuracy: 0.8776 - val_loss: 1.2944\n",
            "\u001b[1m2/2\u001b[0m \u001b[32m━━━━━━━━━━━━━━━━━━━━\u001b[0m\u001b[37m\u001b[0m \u001b[1m1s\u001b[0m 652ms/step - accuracy: 0.8767 - loss: 1.2697\n",
            "Validation accuracy: 0.8775510191917419\n"
          ]
        }
      ]
    },
    {
      "cell_type": "code",
      "source": [
        "# Plot training and validation loss\n",
        "plt.plot(history.history['loss'], label='Training Loss')\n",
        "plt.plot(history.history['val_loss'], label='Validation Loss')\n",
        "plt.xlabel('Epoch')\n",
        "plt.ylabel('Loss')\n",
        "plt.title('Training and Validation Loss')\n",
        "plt.legend()\n",
        "plt.show()\n"
      ],
      "metadata": {
        "colab": {
          "base_uri": "https://localhost:8080/",
          "height": 472
        },
        "id": "374kBp18DBh1",
        "outputId": "2de2dfb3-9d02-4b66-8718-21851807c935"
      },
      "execution_count": 128,
      "outputs": [
        {
          "output_type": "display_data",
          "data": {
            "text/plain": [
              "<Figure size 640x480 with 1 Axes>"
            ],
            "image/png": "[encoded data removed]"
          },
          "metadata": {}
        }
      ]
    },
    {
      "cell_type": "code",
      "source": [
        "import numpy as np\n",
        "from sklearn.metrics import confusion_matrix, classification_report\n",
        "import matplotlib.pyplot as plt\n",
        "import seaborn as sns\n",
        "# Generate predictions using the trained model\n",
        "predictions = model.predict(test_images)\n",
        "#print(predictions)\n",
        "# Convert probability predictions to class labels\n",
        "predicted_labels = (predictions > 0.5).astype(int)\n",
        "\n",
        "# Evaluate the performance on the test set\n",
        "accuracy = np.mean(predicted_labels.flatten() == test_labels)\n",
        "print(\"Validation accuracy during inference:\", accuracy)\n",
        "\n",
        "# Generate confusion matrix\n",
        "conf_matrix = confusion_matrix(test_labels, predicted_labels)\n",
        "\n",
        "# Print confusion matrix\n",
        "print(\"=== Confusion Matrix ===\")\n",
        "print(conf_matrix)\n",
        "print('\\n')\n",
        "\n",
        "# Plot confusion matrix using seaborn\n",
        "plt.figure(figsize=(3, 3))\n",
        "sns.heatmap(conf_matrix, annot=True, fmt='d', cmap='Blues', xticklabels=np.unique(test_labels), yticklabels=np.unique(test_labels))\n",
        "plt.xlabel('Predicted Label')\n",
        "plt.ylabel('True Label')\n",
        "plt.title('Confusion Matrix')\n",
        "plt.show()\n",
        "\n",
        "# Print classification report\n",
        "print(\"=== Classification Report ===\")\n",
        "print(classification_report(test_labels, predicted_labels))\n",
        "print('\\n')\n"
      ],
      "metadata": {
        "colab": {
          "base_uri": "https://localhost:8080/",
          "height": 663
        },
        "id": "JPe1j4LA-wkA",
        "outputId": "04fec61d-0616-474a-8e04-5efc2cd09665"
      },
      "execution_count": 129,
      "outputs": [
        {
          "output_type": "stream",
          "name": "stdout",
          "text": [
            "\u001b[1m2/2\u001b[0m \u001b[32m━━━━━━━━━━━━━━━━━━━━\u001b[0m\u001b[37m\u001b[0m \u001b[1m1s\u001b[0m 280ms/step\n",
            "Validation accuracy during inference: 0.9\n",
            "=== Confusion Matrix ===\n",
            "[[25  3]\n",
            " [ 2 20]]\n",
            "\n",
            "\n"
          ]
        },
        {
          "output_type": "display_data",
          "data": {
            "text/plain": [
              "<Figure size 300x300 with 2 Axes>"
            ],
            "image/png": "[encoded data removed]"
          },
          "metadata": {}
        },
        {
          "output_type": "stream",
          "name": "stdout",
          "text": [
            "=== Classification Report ===\n",
            "              precision    recall  f1-score   support\n",
            "\n",
            "           0       0.93      0.89      0.91        28\n",
            "           1       0.87      0.91      0.89        22\n",
            "\n",
            "    accuracy                           0.90        50\n",
            "   macro avg       0.90      0.90      0.90        50\n",
            "weighted avg       0.90      0.90      0.90        50\n",
            "\n",
            "\n",
            "\n"
          ]
        }
      ]
    }
  ]
}